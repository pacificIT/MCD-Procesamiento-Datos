{
 "cells": [
  {
   "cell_type": "markdown",
   "metadata": {
    "id": "UDK5iU-qsNcG"
   },
   "source": [
    "\n",
    "# Universidad Autónoma de Nuevo León \n",
    "# Maestría en Ciencia de Datos\n",
    "# Procesamiento y Clasificación de Datos\n",
    "# Alder López Cerda\n",
    "# Tarea2 : Análisis de Sentimiento\n",
    "\n"
   ]
  },
  {
   "cell_type": "markdown",
   "metadata": {
    "id": "TuR2JWUwsGbq"
   },
   "source": [
    "# Usando base de datos Hotel Reviews "
   ]
  },
  {
   "cell_type": "markdown",
   "metadata": {},
   "source": [
    "se usara un dataset de comentarios sobre hoteles : https://www.kaggle.com/datasets/datafiniti/hotel-reviews"
   ]
  },
  {
   "cell_type": "markdown",
   "metadata": {},
   "source": [
    "Se carga los datos"
   ]
  },
  {
   "cell_type": "code",
   "execution_count": 288,
   "metadata": {
    "colab": {
     "base_uri": "https://localhost:8080/",
     "height": 357
    },
    "id": "3EOQGaY8fsRc",
    "outputId": "dedd670a-e53d-4ec5-8d1a-5c7609a014a9"
   },
   "outputs": [
    {
     "data": {
      "text/html": [
       "<div>\n",
       "<style scoped>\n",
       "    .dataframe tbody tr th:only-of-type {\n",
       "        vertical-align: middle;\n",
       "    }\n",
       "\n",
       "    .dataframe tbody tr th {\n",
       "        vertical-align: top;\n",
       "    }\n",
       "\n",
       "    .dataframe thead th {\n",
       "        text-align: right;\n",
       "    }\n",
       "</style>\n",
       "<table border=\"1\" class=\"dataframe\">\n",
       "  <thead>\n",
       "    <tr style=\"text-align: right;\">\n",
       "      <th></th>\n",
       "      <th>id</th>\n",
       "      <th>dateAdded</th>\n",
       "      <th>dateUpdated</th>\n",
       "      <th>address</th>\n",
       "      <th>categories</th>\n",
       "      <th>primaryCategories</th>\n",
       "      <th>city</th>\n",
       "      <th>country</th>\n",
       "      <th>keys</th>\n",
       "      <th>latitude</th>\n",
       "      <th>...</th>\n",
       "      <th>reviews.dateSeen</th>\n",
       "      <th>reviews.rating</th>\n",
       "      <th>reviews.sourceURLs</th>\n",
       "      <th>reviews.text</th>\n",
       "      <th>reviews.title</th>\n",
       "      <th>reviews.userCity</th>\n",
       "      <th>reviews.userProvince</th>\n",
       "      <th>reviews.username</th>\n",
       "      <th>sourceURLs</th>\n",
       "      <th>websites</th>\n",
       "    </tr>\n",
       "  </thead>\n",
       "  <tbody>\n",
       "    <tr>\n",
       "      <th>0</th>\n",
       "      <td>AVwc252WIN2L1WUfpqLP</td>\n",
       "      <td>2016-10-30T21:42:42Z</td>\n",
       "      <td>2018-09-10T21:06:27Z</td>\n",
       "      <td>5921 Valencia Cir</td>\n",
       "      <td>Hotels,Hotels and motels,Hotel and motel reser...</td>\n",
       "      <td>Accommodation &amp; Food Services</td>\n",
       "      <td>Rancho Santa Fe</td>\n",
       "      <td>US</td>\n",
       "      <td>us/ca/ranchosantafe/5921valenciacir/359754519</td>\n",
       "      <td>32.990959</td>\n",
       "      <td>...</td>\n",
       "      <td>2016-08-03T00:00:00Z,2016-07-26T00:00:00Z,2016...</td>\n",
       "      <td>5.0</td>\n",
       "      <td>https://www.hotels.com/hotel/125419/reviews%20/</td>\n",
       "      <td>Our experience at Rancho Valencia was absolute...</td>\n",
       "      <td>Best romantic vacation ever!!!!</td>\n",
       "      <td>NaN</td>\n",
       "      <td>NaN</td>\n",
       "      <td>Paula</td>\n",
       "      <td>http://www.hotels.com/ho125419/%25252525253Flo...</td>\n",
       "      <td>http://www.ranchovalencia.com</td>\n",
       "    </tr>\n",
       "    <tr>\n",
       "      <th>1</th>\n",
       "      <td>AVwc252WIN2L1WUfpqLP</td>\n",
       "      <td>2016-10-30T21:42:42Z</td>\n",
       "      <td>2018-09-10T21:06:27Z</td>\n",
       "      <td>5921 Valencia Cir</td>\n",
       "      <td>Hotels,Hotels and motels,Hotel and motel reser...</td>\n",
       "      <td>Accommodation &amp; Food Services</td>\n",
       "      <td>Rancho Santa Fe</td>\n",
       "      <td>US</td>\n",
       "      <td>us/ca/ranchosantafe/5921valenciacir/359754519</td>\n",
       "      <td>32.990959</td>\n",
       "      <td>...</td>\n",
       "      <td>2016-08-02T00:00:00Z,2016-08-26T00:00:00Z,2016...</td>\n",
       "      <td>5.0</td>\n",
       "      <td>https://www.hotels.com/hotel/125419/reviews%20/</td>\n",
       "      <td>Amazing place. Everyone was extremely warm and...</td>\n",
       "      <td>Sweet sweet serenity</td>\n",
       "      <td>NaN</td>\n",
       "      <td>NaN</td>\n",
       "      <td>D</td>\n",
       "      <td>http://www.hotels.com/ho125419/%25252525253Flo...</td>\n",
       "      <td>http://www.ranchovalencia.com</td>\n",
       "    </tr>\n",
       "    <tr>\n",
       "      <th>2</th>\n",
       "      <td>AVwc252WIN2L1WUfpqLP</td>\n",
       "      <td>2016-10-30T21:42:42Z</td>\n",
       "      <td>2018-09-10T21:06:27Z</td>\n",
       "      <td>5921 Valencia Cir</td>\n",
       "      <td>Hotels,Hotels and motels,Hotel and motel reser...</td>\n",
       "      <td>Accommodation &amp; Food Services</td>\n",
       "      <td>Rancho Santa Fe</td>\n",
       "      <td>US</td>\n",
       "      <td>us/ca/ranchosantafe/5921valenciacir/359754519</td>\n",
       "      <td>32.990959</td>\n",
       "      <td>...</td>\n",
       "      <td>2016-11-15T00:00:00Z,2016-08-23T00:00:00Z,2016...</td>\n",
       "      <td>5.0</td>\n",
       "      <td>https://www.hotels.com/hotel/125419/reviews%20/</td>\n",
       "      <td>We booked a 3 night stay at Rancho Valencia to...</td>\n",
       "      <td>Amazing Property and Experience</td>\n",
       "      <td>NaN</td>\n",
       "      <td>NaN</td>\n",
       "      <td>Ron</td>\n",
       "      <td>http://www.hotels.com/ho125419/%25252525253Flo...</td>\n",
       "      <td>http://www.ranchovalencia.com</td>\n",
       "    </tr>\n",
       "  </tbody>\n",
       "</table>\n",
       "<p>3 rows × 25 columns</p>\n",
       "</div>"
      ],
      "text/plain": [
       "                     id             dateAdded           dateUpdated  \\\n",
       "0  AVwc252WIN2L1WUfpqLP  2016-10-30T21:42:42Z  2018-09-10T21:06:27Z   \n",
       "1  AVwc252WIN2L1WUfpqLP  2016-10-30T21:42:42Z  2018-09-10T21:06:27Z   \n",
       "2  AVwc252WIN2L1WUfpqLP  2016-10-30T21:42:42Z  2018-09-10T21:06:27Z   \n",
       "\n",
       "             address                                         categories  \\\n",
       "0  5921 Valencia Cir  Hotels,Hotels and motels,Hotel and motel reser...   \n",
       "1  5921 Valencia Cir  Hotels,Hotels and motels,Hotel and motel reser...   \n",
       "2  5921 Valencia Cir  Hotels,Hotels and motels,Hotel and motel reser...   \n",
       "\n",
       "               primaryCategories             city country  \\\n",
       "0  Accommodation & Food Services  Rancho Santa Fe      US   \n",
       "1  Accommodation & Food Services  Rancho Santa Fe      US   \n",
       "2  Accommodation & Food Services  Rancho Santa Fe      US   \n",
       "\n",
       "                                            keys   latitude  ...  \\\n",
       "0  us/ca/ranchosantafe/5921valenciacir/359754519  32.990959  ...   \n",
       "1  us/ca/ranchosantafe/5921valenciacir/359754519  32.990959  ...   \n",
       "2  us/ca/ranchosantafe/5921valenciacir/359754519  32.990959  ...   \n",
       "\n",
       "                                    reviews.dateSeen reviews.rating  \\\n",
       "0  2016-08-03T00:00:00Z,2016-07-26T00:00:00Z,2016...            5.0   \n",
       "1  2016-08-02T00:00:00Z,2016-08-26T00:00:00Z,2016...            5.0   \n",
       "2  2016-11-15T00:00:00Z,2016-08-23T00:00:00Z,2016...            5.0   \n",
       "\n",
       "                                reviews.sourceURLs  \\\n",
       "0  https://www.hotels.com/hotel/125419/reviews%20/   \n",
       "1  https://www.hotels.com/hotel/125419/reviews%20/   \n",
       "2  https://www.hotels.com/hotel/125419/reviews%20/   \n",
       "\n",
       "                                        reviews.text  \\\n",
       "0  Our experience at Rancho Valencia was absolute...   \n",
       "1  Amazing place. Everyone was extremely warm and...   \n",
       "2  We booked a 3 night stay at Rancho Valencia to...   \n",
       "\n",
       "                     reviews.title reviews.userCity  reviews.userProvince  \\\n",
       "0  Best romantic vacation ever!!!!              NaN                   NaN   \n",
       "1             Sweet sweet serenity              NaN                   NaN   \n",
       "2  Amazing Property and Experience              NaN                   NaN   \n",
       "\n",
       "  reviews.username                                         sourceURLs  \\\n",
       "0            Paula  http://www.hotels.com/ho125419/%25252525253Flo...   \n",
       "1                D  http://www.hotels.com/ho125419/%25252525253Flo...   \n",
       "2              Ron  http://www.hotels.com/ho125419/%25252525253Flo...   \n",
       "\n",
       "                        websites  \n",
       "0  http://www.ranchovalencia.com  \n",
       "1  http://www.ranchovalencia.com  \n",
       "2  http://www.ranchovalencia.com  \n",
       "\n",
       "[3 rows x 25 columns]"
      ]
     },
     "execution_count": 288,
     "metadata": {},
     "output_type": "execute_result"
    }
   ],
   "source": [
    "import pandas as pd\n",
    "df = pd.read_csv('/Users/alder.lopez/Documents/DocsMac/Alder/UANL/ProcesamientoClasificacionDato/T2/HotelReviews/Datafiniti_Hotel_Reviews.csv')\n",
    "df.head(3)\n"
   ]
  },
  {
   "cell_type": "markdown",
   "metadata": {},
   "source": [
    "Eliminacion de columnas que no son parte del enfoque del analisis "
   ]
  },
  {
   "cell_type": "code",
   "execution_count": 289,
   "metadata": {
    "colab": {
     "base_uri": "https://localhost:8080/",
     "height": 206
    },
    "id": "k3WZMcNFgdZx",
    "outputId": "cd72d836-7914-4e46-ce2d-1341cfdc494e"
   },
   "outputs": [
    {
     "data": {
      "text/html": [
       "<div>\n",
       "<style scoped>\n",
       "    .dataframe tbody tr th:only-of-type {\n",
       "        vertical-align: middle;\n",
       "    }\n",
       "\n",
       "    .dataframe tbody tr th {\n",
       "        vertical-align: top;\n",
       "    }\n",
       "\n",
       "    .dataframe thead th {\n",
       "        text-align: right;\n",
       "    }\n",
       "</style>\n",
       "<table border=\"1\" class=\"dataframe\">\n",
       "  <thead>\n",
       "    <tr style=\"text-align: right;\">\n",
       "      <th></th>\n",
       "      <th>name</th>\n",
       "      <th>reviews.date</th>\n",
       "      <th>reviews.rating</th>\n",
       "      <th>reviews.text</th>\n",
       "      <th>reviews.title</th>\n",
       "    </tr>\n",
       "  </thead>\n",
       "  <tbody>\n",
       "    <tr>\n",
       "      <th>0</th>\n",
       "      <td>Rancho Valencia Resort Spa</td>\n",
       "      <td>2013-11-14T00:00:00Z</td>\n",
       "      <td>5.0</td>\n",
       "      <td>Our experience at Rancho Valencia was absolute...</td>\n",
       "      <td>Best romantic vacation ever!!!!</td>\n",
       "    </tr>\n",
       "    <tr>\n",
       "      <th>1</th>\n",
       "      <td>Rancho Valencia Resort Spa</td>\n",
       "      <td>2014-07-06T00:00:00Z</td>\n",
       "      <td>5.0</td>\n",
       "      <td>Amazing place. Everyone was extremely warm and...</td>\n",
       "      <td>Sweet sweet serenity</td>\n",
       "    </tr>\n",
       "    <tr>\n",
       "      <th>2</th>\n",
       "      <td>Rancho Valencia Resort Spa</td>\n",
       "      <td>2015-01-02T00:00:00Z</td>\n",
       "      <td>5.0</td>\n",
       "      <td>We booked a 3 night stay at Rancho Valencia to...</td>\n",
       "      <td>Amazing Property and Experience</td>\n",
       "    </tr>\n",
       "    <tr>\n",
       "      <th>3</th>\n",
       "      <td>Aloft Arundel Mills</td>\n",
       "      <td>2016-05-15T00:00:00Z</td>\n",
       "      <td>2.0</td>\n",
       "      <td>Currently in bed writing this for the past hr ...</td>\n",
       "      <td>Never again...beware, if you want sleep.</td>\n",
       "    </tr>\n",
       "    <tr>\n",
       "      <th>4</th>\n",
       "      <td>Aloft Arundel Mills</td>\n",
       "      <td>2016-07-09T00:00:00Z</td>\n",
       "      <td>5.0</td>\n",
       "      <td>I live in Md and the Aloft is my Home away fro...</td>\n",
       "      <td>ALWAYS GREAT STAY...</td>\n",
       "    </tr>\n",
       "  </tbody>\n",
       "</table>\n",
       "</div>"
      ],
      "text/plain": [
       "                         name          reviews.date  reviews.rating  \\\n",
       "0  Rancho Valencia Resort Spa  2013-11-14T00:00:00Z             5.0   \n",
       "1  Rancho Valencia Resort Spa  2014-07-06T00:00:00Z             5.0   \n",
       "2  Rancho Valencia Resort Spa  2015-01-02T00:00:00Z             5.0   \n",
       "3         Aloft Arundel Mills  2016-05-15T00:00:00Z             2.0   \n",
       "4         Aloft Arundel Mills  2016-07-09T00:00:00Z             5.0   \n",
       "\n",
       "                                        reviews.text  \\\n",
       "0  Our experience at Rancho Valencia was absolute...   \n",
       "1  Amazing place. Everyone was extremely warm and...   \n",
       "2  We booked a 3 night stay at Rancho Valencia to...   \n",
       "3  Currently in bed writing this for the past hr ...   \n",
       "4  I live in Md and the Aloft is my Home away fro...   \n",
       "\n",
       "                              reviews.title  \n",
       "0           Best romantic vacation ever!!!!  \n",
       "1                      Sweet sweet serenity  \n",
       "2           Amazing Property and Experience  \n",
       "3  Never again...beware, if you want sleep.  \n",
       "4                      ALWAYS GREAT STAY...  "
      ]
     },
     "execution_count": 289,
     "metadata": {},
     "output_type": "execute_result"
    }
   ],
   "source": [
    "dataset = df.drop(['id', 'dateUpdated','country', 'address', 'categories', 'primaryCategories', 'city','keys','latitude','longitude','postalCode','province','dateAdded','reviews.dateSeen','reviews.sourceURLs','reviews.userCity','reviews.userProvince','reviews.username','sourceURLs','websites'], axis =1)\n",
    "dataset.head()"
   ]
  },
  {
   "cell_type": "code",
   "execution_count": 290,
   "metadata": {
    "colab": {
     "base_uri": "https://localhost:8080/"
    },
    "id": "1oL6ShCEp2Gb",
    "outputId": "873473c0-c9fe-44b3-c4c2-95a3e36d7ef0"
   },
   "outputs": [
    {
     "data": {
      "text/plain": [
       "(10000, 5)"
      ]
     },
     "execution_count": 290,
     "metadata": {},
     "output_type": "execute_result"
    }
   ],
   "source": [
    "dataset.shape"
   ]
  },
  {
   "cell_type": "code",
   "execution_count": 291,
   "metadata": {},
   "outputs": [],
   "source": [
    "# se tomaran 5000 para limitar los datos"
   ]
  },
  {
   "cell_type": "code",
   "execution_count": 292,
   "metadata": {
    "colab": {
     "base_uri": "https://localhost:8080/"
    },
    "id": "ZRplq4_Hp5_r",
    "outputId": "8eb7d7df-ac57-4bd3-9cca-b837621c9759"
   },
   "outputs": [
    {
     "data": {
      "text/plain": [
       "(5000, 5)"
      ]
     },
     "execution_count": 292,
     "metadata": {},
     "output_type": "execute_result"
    }
   ],
   "source": [
    "N = 5000\n",
    "dataset = dataset.iloc[:N , :]\n",
    "dataset.shape"
   ]
  },
  {
   "cell_type": "code",
   "execution_count": 293,
   "metadata": {},
   "outputs": [],
   "source": [
    "# se realiza limpiza de los datos "
   ]
  },
  {
   "cell_type": "code",
   "execution_count": 294,
   "metadata": {
    "colab": {
     "base_uri": "https://localhost:8080/",
     "height": 206
    },
    "id": "dfdoUAEChm9m",
    "outputId": "96e0e931-de3c-4b69-cf65-837ce34084ac"
   },
   "outputs": [
    {
     "data": {
      "text/html": [
       "<div>\n",
       "<style scoped>\n",
       "    .dataframe tbody tr th:only-of-type {\n",
       "        vertical-align: middle;\n",
       "    }\n",
       "\n",
       "    .dataframe tbody tr th {\n",
       "        vertical-align: top;\n",
       "    }\n",
       "\n",
       "    .dataframe thead th {\n",
       "        text-align: right;\n",
       "    }\n",
       "</style>\n",
       "<table border=\"1\" class=\"dataframe\">\n",
       "  <thead>\n",
       "    <tr style=\"text-align: right;\">\n",
       "      <th></th>\n",
       "      <th>name</th>\n",
       "      <th>reviews.date</th>\n",
       "      <th>reviews.rating</th>\n",
       "      <th>reviews.text</th>\n",
       "      <th>reviews.title</th>\n",
       "      <th>Cleaned Reviews</th>\n",
       "    </tr>\n",
       "  </thead>\n",
       "  <tbody>\n",
       "    <tr>\n",
       "      <th>0</th>\n",
       "      <td>Rancho Valencia Resort Spa</td>\n",
       "      <td>2013-11-14T00:00:00Z</td>\n",
       "      <td>5.0</td>\n",
       "      <td>Our experience at Rancho Valencia was absolute...</td>\n",
       "      <td>Best romantic vacation ever!!!!</td>\n",
       "      <td>Our experience at Rancho Valencia was absolute...</td>\n",
       "    </tr>\n",
       "    <tr>\n",
       "      <th>1</th>\n",
       "      <td>Rancho Valencia Resort Spa</td>\n",
       "      <td>2014-07-06T00:00:00Z</td>\n",
       "      <td>5.0</td>\n",
       "      <td>Amazing place. Everyone was extremely warm and...</td>\n",
       "      <td>Sweet sweet serenity</td>\n",
       "      <td>Amazing place Everyone was extremely warm and ...</td>\n",
       "    </tr>\n",
       "    <tr>\n",
       "      <th>2</th>\n",
       "      <td>Rancho Valencia Resort Spa</td>\n",
       "      <td>2015-01-02T00:00:00Z</td>\n",
       "      <td>5.0</td>\n",
       "      <td>We booked a 3 night stay at Rancho Valencia to...</td>\n",
       "      <td>Amazing Property and Experience</td>\n",
       "      <td>We booked a night stay at Rancho Valencia to p...</td>\n",
       "    </tr>\n",
       "    <tr>\n",
       "      <th>3</th>\n",
       "      <td>Aloft Arundel Mills</td>\n",
       "      <td>2016-05-15T00:00:00Z</td>\n",
       "      <td>2.0</td>\n",
       "      <td>Currently in bed writing this for the past hr ...</td>\n",
       "      <td>Never again...beware, if you want sleep.</td>\n",
       "      <td>Currently in bed writing this for the past hr ...</td>\n",
       "    </tr>\n",
       "    <tr>\n",
       "      <th>4</th>\n",
       "      <td>Aloft Arundel Mills</td>\n",
       "      <td>2016-07-09T00:00:00Z</td>\n",
       "      <td>5.0</td>\n",
       "      <td>I live in Md and the Aloft is my Home away fro...</td>\n",
       "      <td>ALWAYS GREAT STAY...</td>\n",
       "      <td>I live in Md and the Aloft is my Home away fro...</td>\n",
       "    </tr>\n",
       "  </tbody>\n",
       "</table>\n",
       "</div>"
      ],
      "text/plain": [
       "                         name          reviews.date  reviews.rating  \\\n",
       "0  Rancho Valencia Resort Spa  2013-11-14T00:00:00Z             5.0   \n",
       "1  Rancho Valencia Resort Spa  2014-07-06T00:00:00Z             5.0   \n",
       "2  Rancho Valencia Resort Spa  2015-01-02T00:00:00Z             5.0   \n",
       "3         Aloft Arundel Mills  2016-05-15T00:00:00Z             2.0   \n",
       "4         Aloft Arundel Mills  2016-07-09T00:00:00Z             5.0   \n",
       "\n",
       "                                        reviews.text  \\\n",
       "0  Our experience at Rancho Valencia was absolute...   \n",
       "1  Amazing place. Everyone was extremely warm and...   \n",
       "2  We booked a 3 night stay at Rancho Valencia to...   \n",
       "3  Currently in bed writing this for the past hr ...   \n",
       "4  I live in Md and the Aloft is my Home away fro...   \n",
       "\n",
       "                              reviews.title  \\\n",
       "0           Best romantic vacation ever!!!!   \n",
       "1                      Sweet sweet serenity   \n",
       "2           Amazing Property and Experience   \n",
       "3  Never again...beware, if you want sleep.   \n",
       "4                      ALWAYS GREAT STAY...   \n",
       "\n",
       "                                     Cleaned Reviews  \n",
       "0  Our experience at Rancho Valencia was absolute...  \n",
       "1  Amazing place Everyone was extremely warm and ...  \n",
       "2  We booked a night stay at Rancho Valencia to p...  \n",
       "3  Currently in bed writing this for the past hr ...  \n",
       "4  I live in Md and the Aloft is my Home away fro...  "
      ]
     },
     "execution_count": 294,
     "metadata": {},
     "output_type": "execute_result"
    }
   ],
   "source": [
    "import re\n",
    "\n",
    "# Define a function to clean the text\n",
    "def clean(text):\n",
    "    # Removes all special characters and numericals leaving the alphabets\n",
    "    \n",
    "    if text is not None:\n",
    "        text = re.sub('[^A-Za-z]+', ' ', text) \n",
    "    return text\n",
    "\n",
    "\n",
    "# Cleaning the text in the review column\n",
    "dataset['Cleaned Reviews'] = dataset['reviews.text'].apply(clean)\n",
    "dataset.head()"
   ]
  },
  {
   "cell_type": "code",
   "execution_count": 295,
   "metadata": {
    "colab": {
     "base_uri": "https://localhost:8080/",
     "height": 380
    },
    "id": "zZ7Y0ME1h2Ft",
    "outputId": "370132b2-6fc3-4caa-8707-316e4cfe4873"
   },
   "outputs": [
    {
     "name": "stderr",
     "output_type": "stream",
     "text": [
      "[nltk_data] Downloading package punkt to\n",
      "[nltk_data]     /Users/alder.lopez/nltk_data...\n",
      "[nltk_data]   Package punkt is already up-to-date!\n",
      "[nltk_data] Downloading package stopwords to\n",
      "[nltk_data]     /Users/alder.lopez/nltk_data...\n",
      "[nltk_data]   Package stopwords is already up-to-date!\n",
      "[nltk_data] Downloading package wordnet to\n",
      "[nltk_data]     /Users/alder.lopez/nltk_data...\n",
      "[nltk_data]   Package wordnet is already up-to-date!\n",
      "[nltk_data] Downloading package averaged_perceptron_tagger to\n",
      "[nltk_data]     /Users/alder.lopez/nltk_data...\n",
      "[nltk_data]   Package averaged_perceptron_tagger is already up-to-\n",
      "[nltk_data]       date!\n"
     ]
    },
    {
     "data": {
      "text/html": [
       "<div>\n",
       "<style scoped>\n",
       "    .dataframe tbody tr th:only-of-type {\n",
       "        vertical-align: middle;\n",
       "    }\n",
       "\n",
       "    .dataframe tbody tr th {\n",
       "        vertical-align: top;\n",
       "    }\n",
       "\n",
       "    .dataframe thead th {\n",
       "        text-align: right;\n",
       "    }\n",
       "</style>\n",
       "<table border=\"1\" class=\"dataframe\">\n",
       "  <thead>\n",
       "    <tr style=\"text-align: right;\">\n",
       "      <th></th>\n",
       "      <th>name</th>\n",
       "      <th>reviews.date</th>\n",
       "      <th>reviews.rating</th>\n",
       "      <th>reviews.text</th>\n",
       "      <th>reviews.title</th>\n",
       "      <th>Cleaned Reviews</th>\n",
       "      <th>POS tagged</th>\n",
       "    </tr>\n",
       "  </thead>\n",
       "  <tbody>\n",
       "    <tr>\n",
       "      <th>0</th>\n",
       "      <td>Rancho Valencia Resort Spa</td>\n",
       "      <td>2013-11-14T00:00:00Z</td>\n",
       "      <td>5.0</td>\n",
       "      <td>Our experience at Rancho Valencia was absolute...</td>\n",
       "      <td>Best romantic vacation ever!!!!</td>\n",
       "      <td>Our experience at Rancho Valencia was absolute...</td>\n",
       "      <td>[(experience, n), (Rancho, n), (Valencia, n), ...</td>\n",
       "    </tr>\n",
       "    <tr>\n",
       "      <th>1</th>\n",
       "      <td>Rancho Valencia Resort Spa</td>\n",
       "      <td>2014-07-06T00:00:00Z</td>\n",
       "      <td>5.0</td>\n",
       "      <td>Amazing place. Everyone was extremely warm and...</td>\n",
       "      <td>Sweet sweet serenity</td>\n",
       "      <td>Amazing place Everyone was extremely warm and ...</td>\n",
       "      <td>[(Amazing, a), (place, n), (Everyone, n), (ext...</td>\n",
       "    </tr>\n",
       "    <tr>\n",
       "      <th>2</th>\n",
       "      <td>Rancho Valencia Resort Spa</td>\n",
       "      <td>2015-01-02T00:00:00Z</td>\n",
       "      <td>5.0</td>\n",
       "      <td>We booked a 3 night stay at Rancho Valencia to...</td>\n",
       "      <td>Amazing Property and Experience</td>\n",
       "      <td>We booked a night stay at Rancho Valencia to p...</td>\n",
       "      <td>[(booked, v), (night, n), (stay, n), (Rancho, ...</td>\n",
       "    </tr>\n",
       "    <tr>\n",
       "      <th>3</th>\n",
       "      <td>Aloft Arundel Mills</td>\n",
       "      <td>2016-05-15T00:00:00Z</td>\n",
       "      <td>2.0</td>\n",
       "      <td>Currently in bed writing this for the past hr ...</td>\n",
       "      <td>Never again...beware, if you want sleep.</td>\n",
       "      <td>Currently in bed writing this for the past hr ...</td>\n",
       "      <td>[(Currently, r), (bed, n), (writing, n), (past...</td>\n",
       "    </tr>\n",
       "    <tr>\n",
       "      <th>4</th>\n",
       "      <td>Aloft Arundel Mills</td>\n",
       "      <td>2016-07-09T00:00:00Z</td>\n",
       "      <td>5.0</td>\n",
       "      <td>I live in Md and the Aloft is my Home away fro...</td>\n",
       "      <td>ALWAYS GREAT STAY...</td>\n",
       "      <td>I live in Md and the Aloft is my Home away fro...</td>\n",
       "      <td>[(live, v), (Md, n), (Aloft, n), (Home, n), (a...</td>\n",
       "    </tr>\n",
       "  </tbody>\n",
       "</table>\n",
       "</div>"
      ],
      "text/plain": [
       "                         name          reviews.date  reviews.rating  \\\n",
       "0  Rancho Valencia Resort Spa  2013-11-14T00:00:00Z             5.0   \n",
       "1  Rancho Valencia Resort Spa  2014-07-06T00:00:00Z             5.0   \n",
       "2  Rancho Valencia Resort Spa  2015-01-02T00:00:00Z             5.0   \n",
       "3         Aloft Arundel Mills  2016-05-15T00:00:00Z             2.0   \n",
       "4         Aloft Arundel Mills  2016-07-09T00:00:00Z             5.0   \n",
       "\n",
       "                                        reviews.text  \\\n",
       "0  Our experience at Rancho Valencia was absolute...   \n",
       "1  Amazing place. Everyone was extremely warm and...   \n",
       "2  We booked a 3 night stay at Rancho Valencia to...   \n",
       "3  Currently in bed writing this for the past hr ...   \n",
       "4  I live in Md and the Aloft is my Home away fro...   \n",
       "\n",
       "                              reviews.title  \\\n",
       "0           Best romantic vacation ever!!!!   \n",
       "1                      Sweet sweet serenity   \n",
       "2           Amazing Property and Experience   \n",
       "3  Never again...beware, if you want sleep.   \n",
       "4                      ALWAYS GREAT STAY...   \n",
       "\n",
       "                                     Cleaned Reviews  \\\n",
       "0  Our experience at Rancho Valencia was absolute...   \n",
       "1  Amazing place Everyone was extremely warm and ...   \n",
       "2  We booked a night stay at Rancho Valencia to p...   \n",
       "3  Currently in bed writing this for the past hr ...   \n",
       "4  I live in Md and the Aloft is my Home away fro...   \n",
       "\n",
       "                                          POS tagged  \n",
       "0  [(experience, n), (Rancho, n), (Valencia, n), ...  \n",
       "1  [(Amazing, a), (place, n), (Everyone, n), (ext...  \n",
       "2  [(booked, v), (night, n), (stay, n), (Rancho, ...  \n",
       "3  [(Currently, r), (bed, n), (writing, n), (past...  \n",
       "4  [(live, v), (Md, n), (Aloft, n), (Home, n), (a...  "
      ]
     },
     "execution_count": 295,
     "metadata": {},
     "output_type": "execute_result"
    }
   ],
   "source": [
    "import nltk\n",
    "nltk.download('punkt')\n",
    "from nltk.tokenize import word_tokenize\n",
    "from nltk import pos_tag\n",
    "nltk.download('stopwords')\n",
    "from nltk.corpus import stopwords\n",
    "nltk.download('wordnet')\n",
    "from nltk.corpus import wordnet\n",
    "nltk.download('averaged_perceptron_tagger')\n",
    "\n",
    "# POS tagger dictionary\n",
    "pos_dict = {'J':wordnet.ADJ, 'V':wordnet.VERB, 'N':wordnet.NOUN, 'R':wordnet.ADV}\n",
    "\n",
    "def token_stop_pos(text):\n",
    "    tags = pos_tag(word_tokenize(text))\n",
    "    newlist = []\n",
    "    for word, tag in tags:\n",
    "        if word.lower() not in set(stopwords.words('english')):\n",
    "            newlist.append(tuple([word, pos_dict.get(tag[0])]))\n",
    "    return newlist\n",
    "\n",
    "\n",
    "\n",
    "dataset['POS tagged'] = dataset['Cleaned Reviews'].apply(token_stop_pos)\n",
    "dataset.head()\n"
   ]
  },
  {
   "cell_type": "code",
   "execution_count": 296,
   "metadata": {
    "colab": {
     "base_uri": "https://localhost:8080/",
     "height": 337
    },
    "id": "S4iQ9qkxh3-c",
    "outputId": "ac07d487-615c-4214-a904-8b06000f148e"
   },
   "outputs": [
    {
     "data": {
      "text/html": [
       "<div>\n",
       "<style scoped>\n",
       "    .dataframe tbody tr th:only-of-type {\n",
       "        vertical-align: middle;\n",
       "    }\n",
       "\n",
       "    .dataframe tbody tr th {\n",
       "        vertical-align: top;\n",
       "    }\n",
       "\n",
       "    .dataframe thead th {\n",
       "        text-align: right;\n",
       "    }\n",
       "</style>\n",
       "<table border=\"1\" class=\"dataframe\">\n",
       "  <thead>\n",
       "    <tr style=\"text-align: right;\">\n",
       "      <th></th>\n",
       "      <th>name</th>\n",
       "      <th>reviews.date</th>\n",
       "      <th>reviews.rating</th>\n",
       "      <th>reviews.text</th>\n",
       "      <th>reviews.title</th>\n",
       "      <th>Cleaned Reviews</th>\n",
       "      <th>POS tagged</th>\n",
       "      <th>Lemma</th>\n",
       "    </tr>\n",
       "  </thead>\n",
       "  <tbody>\n",
       "    <tr>\n",
       "      <th>0</th>\n",
       "      <td>Rancho Valencia Resort Spa</td>\n",
       "      <td>2013-11-14T00:00:00Z</td>\n",
       "      <td>5.0</td>\n",
       "      <td>Our experience at Rancho Valencia was absolute...</td>\n",
       "      <td>Best romantic vacation ever!!!!</td>\n",
       "      <td>Our experience at Rancho Valencia was absolute...</td>\n",
       "      <td>[(experience, n), (Rancho, n), (Valencia, n), ...</td>\n",
       "      <td>experience Rancho Valencia absolutely perfec...</td>\n",
       "    </tr>\n",
       "    <tr>\n",
       "      <th>1</th>\n",
       "      <td>Rancho Valencia Resort Spa</td>\n",
       "      <td>2014-07-06T00:00:00Z</td>\n",
       "      <td>5.0</td>\n",
       "      <td>Amazing place. Everyone was extremely warm and...</td>\n",
       "      <td>Sweet sweet serenity</td>\n",
       "      <td>Amazing place Everyone was extremely warm and ...</td>\n",
       "      <td>[(Amazing, a), (place, n), (Everyone, n), (ext...</td>\n",
       "      <td>Amazing place Everyone extremely warm welcom...</td>\n",
       "    </tr>\n",
       "    <tr>\n",
       "      <th>2</th>\n",
       "      <td>Rancho Valencia Resort Spa</td>\n",
       "      <td>2015-01-02T00:00:00Z</td>\n",
       "      <td>5.0</td>\n",
       "      <td>We booked a 3 night stay at Rancho Valencia to...</td>\n",
       "      <td>Amazing Property and Experience</td>\n",
       "      <td>We booked a night stay at Rancho Valencia to p...</td>\n",
       "      <td>[(booked, v), (night, n), (stay, n), (Rancho, ...</td>\n",
       "      <td>book night stay Rancho Valencia play tennis ...</td>\n",
       "    </tr>\n",
       "    <tr>\n",
       "      <th>3</th>\n",
       "      <td>Aloft Arundel Mills</td>\n",
       "      <td>2016-05-15T00:00:00Z</td>\n",
       "      <td>2.0</td>\n",
       "      <td>Currently in bed writing this for the past hr ...</td>\n",
       "      <td>Never again...beware, if you want sleep.</td>\n",
       "      <td>Currently in bed writing this for the past hr ...</td>\n",
       "      <td>[(Currently, r), (bed, n), (writing, n), (past...</td>\n",
       "      <td>Currently bed writing past hr dog bark squea...</td>\n",
       "    </tr>\n",
       "    <tr>\n",
       "      <th>4</th>\n",
       "      <td>Aloft Arundel Mills</td>\n",
       "      <td>2016-07-09T00:00:00Z</td>\n",
       "      <td>5.0</td>\n",
       "      <td>I live in Md and the Aloft is my Home away fro...</td>\n",
       "      <td>ALWAYS GREAT STAY...</td>\n",
       "      <td>I live in Md and the Aloft is my Home away fro...</td>\n",
       "      <td>[(live, v), (Md, n), (Aloft, n), (Home, n), (a...</td>\n",
       "      <td>live Md Aloft Home away home stay night Staf...</td>\n",
       "    </tr>\n",
       "  </tbody>\n",
       "</table>\n",
       "</div>"
      ],
      "text/plain": [
       "                         name          reviews.date  reviews.rating  \\\n",
       "0  Rancho Valencia Resort Spa  2013-11-14T00:00:00Z             5.0   \n",
       "1  Rancho Valencia Resort Spa  2014-07-06T00:00:00Z             5.0   \n",
       "2  Rancho Valencia Resort Spa  2015-01-02T00:00:00Z             5.0   \n",
       "3         Aloft Arundel Mills  2016-05-15T00:00:00Z             2.0   \n",
       "4         Aloft Arundel Mills  2016-07-09T00:00:00Z             5.0   \n",
       "\n",
       "                                        reviews.text  \\\n",
       "0  Our experience at Rancho Valencia was absolute...   \n",
       "1  Amazing place. Everyone was extremely warm and...   \n",
       "2  We booked a 3 night stay at Rancho Valencia to...   \n",
       "3  Currently in bed writing this for the past hr ...   \n",
       "4  I live in Md and the Aloft is my Home away fro...   \n",
       "\n",
       "                              reviews.title  \\\n",
       "0           Best romantic vacation ever!!!!   \n",
       "1                      Sweet sweet serenity   \n",
       "2           Amazing Property and Experience   \n",
       "3  Never again...beware, if you want sleep.   \n",
       "4                      ALWAYS GREAT STAY...   \n",
       "\n",
       "                                     Cleaned Reviews  \\\n",
       "0  Our experience at Rancho Valencia was absolute...   \n",
       "1  Amazing place Everyone was extremely warm and ...   \n",
       "2  We booked a night stay at Rancho Valencia to p...   \n",
       "3  Currently in bed writing this for the past hr ...   \n",
       "4  I live in Md and the Aloft is my Home away fro...   \n",
       "\n",
       "                                          POS tagged  \\\n",
       "0  [(experience, n), (Rancho, n), (Valencia, n), ...   \n",
       "1  [(Amazing, a), (place, n), (Everyone, n), (ext...   \n",
       "2  [(booked, v), (night, n), (stay, n), (Rancho, ...   \n",
       "3  [(Currently, r), (bed, n), (writing, n), (past...   \n",
       "4  [(live, v), (Md, n), (Aloft, n), (Home, n), (a...   \n",
       "\n",
       "                                               Lemma  \n",
       "0    experience Rancho Valencia absolutely perfec...  \n",
       "1    Amazing place Everyone extremely warm welcom...  \n",
       "2    book night stay Rancho Valencia play tennis ...  \n",
       "3    Currently bed writing past hr dog bark squea...  \n",
       "4    live Md Aloft Home away home stay night Staf...  "
      ]
     },
     "execution_count": 296,
     "metadata": {},
     "output_type": "execute_result"
    }
   ],
   "source": [
    "from nltk.stem import WordNetLemmatizer\n",
    "wordnet_lemmatizer = WordNetLemmatizer()\n",
    "\n",
    "def lemmatize(pos_data):\n",
    "    lemma_rew = \" \"\n",
    "    for word, pos in pos_data:\n",
    "        if not pos: \n",
    "            lemma = word\n",
    "            lemma_rew = lemma_rew + \" \" + lemma\n",
    "        else:  \n",
    "            lemma = wordnet_lemmatizer.lemmatize(word, pos=pos)\n",
    "            lemma_rew = lemma_rew + \" \" + lemma\n",
    "    return lemma_rew\n",
    "    \n",
    "dataset['Lemma'] = dataset['POS tagged'].apply(lemmatize)\n",
    "dataset.head()"
   ]
  },
  {
   "cell_type": "code",
   "execution_count": 297,
   "metadata": {
    "colab": {
     "base_uri": "https://localhost:8080/",
     "height": 424
    },
    "id": "2aN-QO2kquhO",
    "outputId": "cf974560-76d1-446b-c472-d45a47265d59"
   },
   "outputs": [
    {
     "data": {
      "text/html": [
       "<div>\n",
       "<style scoped>\n",
       "    .dataframe tbody tr th:only-of-type {\n",
       "        vertical-align: middle;\n",
       "    }\n",
       "\n",
       "    .dataframe tbody tr th {\n",
       "        vertical-align: top;\n",
       "    }\n",
       "\n",
       "    .dataframe thead th {\n",
       "        text-align: right;\n",
       "    }\n",
       "</style>\n",
       "<table border=\"1\" class=\"dataframe\">\n",
       "  <thead>\n",
       "    <tr style=\"text-align: right;\">\n",
       "      <th></th>\n",
       "      <th>reviews.text</th>\n",
       "      <th>Lemma</th>\n",
       "    </tr>\n",
       "  </thead>\n",
       "  <tbody>\n",
       "    <tr>\n",
       "      <th>0</th>\n",
       "      <td>Our experience at Rancho Valencia was absolute...</td>\n",
       "      <td>experience Rancho Valencia absolutely perfec...</td>\n",
       "    </tr>\n",
       "    <tr>\n",
       "      <th>1</th>\n",
       "      <td>Amazing place. Everyone was extremely warm and...</td>\n",
       "      <td>Amazing place Everyone extremely warm welcom...</td>\n",
       "    </tr>\n",
       "    <tr>\n",
       "      <th>2</th>\n",
       "      <td>We booked a 3 night stay at Rancho Valencia to...</td>\n",
       "      <td>book night stay Rancho Valencia play tennis ...</td>\n",
       "    </tr>\n",
       "    <tr>\n",
       "      <th>3</th>\n",
       "      <td>Currently in bed writing this for the past hr ...</td>\n",
       "      <td>Currently bed writing past hr dog bark squea...</td>\n",
       "    </tr>\n",
       "    <tr>\n",
       "      <th>4</th>\n",
       "      <td>I live in Md and the Aloft is my Home away fro...</td>\n",
       "      <td>live Md Aloft Home away home stay night Staf...</td>\n",
       "    </tr>\n",
       "    <tr>\n",
       "      <th>...</th>\n",
       "      <td>...</td>\n",
       "      <td>...</td>\n",
       "    </tr>\n",
       "    <tr>\n",
       "      <th>4995</th>\n",
       "      <td>Ventilation system was blowing cigarette smoke...</td>\n",
       "      <td>Ventilation system blow cigarette smoke room...</td>\n",
       "    </tr>\n",
       "    <tr>\n",
       "      <th>4996</th>\n",
       "      <td>This hotel has a lot to offer at a good value....</td>\n",
       "      <td>hotel lot offer good value suite spacious pr...</td>\n",
       "    </tr>\n",
       "    <tr>\n",
       "      <th>4997</th>\n",
       "      <td>Staff was very helpful and responsive. The roo...</td>\n",
       "      <td>Staff helpful responsive room pool parking c...</td>\n",
       "    </tr>\n",
       "    <tr>\n",
       "      <th>4998</th>\n",
       "      <td>We stayed at this hotel the last week in Decem...</td>\n",
       "      <td>stay hotel last week December weather extrem...</td>\n",
       "    </tr>\n",
       "    <tr>\n",
       "      <th>4999</th>\n",
       "      <td>We took our two grand children to see DC and s...</td>\n",
       "      <td>take two grand child see DC stay Embassy con...</td>\n",
       "    </tr>\n",
       "  </tbody>\n",
       "</table>\n",
       "<p>5000 rows × 2 columns</p>\n",
       "</div>"
      ],
      "text/plain": [
       "                                           reviews.text  \\\n",
       "0     Our experience at Rancho Valencia was absolute...   \n",
       "1     Amazing place. Everyone was extremely warm and...   \n",
       "2     We booked a 3 night stay at Rancho Valencia to...   \n",
       "3     Currently in bed writing this for the past hr ...   \n",
       "4     I live in Md and the Aloft is my Home away fro...   \n",
       "...                                                 ...   \n",
       "4995  Ventilation system was blowing cigarette smoke...   \n",
       "4996  This hotel has a lot to offer at a good value....   \n",
       "4997  Staff was very helpful and responsive. The roo...   \n",
       "4998  We stayed at this hotel the last week in Decem...   \n",
       "4999  We took our two grand children to see DC and s...   \n",
       "\n",
       "                                                  Lemma  \n",
       "0       experience Rancho Valencia absolutely perfec...  \n",
       "1       Amazing place Everyone extremely warm welcom...  \n",
       "2       book night stay Rancho Valencia play tennis ...  \n",
       "3       Currently bed writing past hr dog bark squea...  \n",
       "4       live Md Aloft Home away home stay night Staf...  \n",
       "...                                                 ...  \n",
       "4995    Ventilation system blow cigarette smoke room...  \n",
       "4996    hotel lot offer good value suite spacious pr...  \n",
       "4997    Staff helpful responsive room pool parking c...  \n",
       "4998    stay hotel last week December weather extrem...  \n",
       "4999    take two grand child see DC stay Embassy con...  \n",
       "\n",
       "[5000 rows x 2 columns]"
      ]
     },
     "execution_count": 297,
     "metadata": {},
     "output_type": "execute_result"
    }
   ],
   "source": [
    "\n",
    "dataset[['reviews.text', 'Lemma']]"
   ]
  },
  {
   "cell_type": "markdown",
   "metadata": {
    "id": "qbf048JnsBgo"
   },
   "source": [
    "# Analisis de sentimiento usando TextBlob"
   ]
  },
  {
   "cell_type": "code",
   "execution_count": 298,
   "metadata": {},
   "outputs": [],
   "source": [
    "#pip install -U textblob\n"
   ]
  },
  {
   "cell_type": "code",
   "execution_count": 299,
   "metadata": {},
   "outputs": [],
   "source": [
    "#python -m textblob.download_corpora"
   ]
  },
  {
   "cell_type": "code",
   "execution_count": 300,
   "metadata": {
    "id": "EZuyNlYNq2va"
   },
   "outputs": [],
   "source": [
    "from textblob import TextBlob\n",
    "\n",
    "# function to calculate subjectivity \n",
    "def getSubjectivity(review):\n",
    "    return TextBlob(review).sentiment.subjectivity\n",
    "\n",
    "# function to calculate polarity\n",
    "def getPolarity(review):\n",
    "    return TextBlob(review).sentiment.polarity\n",
    "\n",
    "# function to analyze the reviews\n",
    "def analysis(score):\n",
    "    if score < 0:\n",
    "        return 'Negative'\n",
    "    elif score == 0:\n",
    "        return 'Neutral'\n",
    "    else:\n",
    "        return 'Positive'"
   ]
  },
  {
   "cell_type": "code",
   "execution_count": 301,
   "metadata": {
    "id": "NVip_Gz9q5tH"
   },
   "outputs": [],
   "source": [
    "fin_data = pd.DataFrame(dataset[['reviews.text', 'Lemma']])"
   ]
  },
  {
   "cell_type": "code",
   "execution_count": 302,
   "metadata": {
    "colab": {
     "base_uri": "https://localhost:8080/",
     "height": 206
    },
    "id": "8QtbEF_Cq5hy",
    "outputId": "1b700fcc-7e95-4377-d972-23b74fb5a60c"
   },
   "outputs": [
    {
     "data": {
      "text/html": [
       "<div>\n",
       "<style scoped>\n",
       "    .dataframe tbody tr th:only-of-type {\n",
       "        vertical-align: middle;\n",
       "    }\n",
       "\n",
       "    .dataframe tbody tr th {\n",
       "        vertical-align: top;\n",
       "    }\n",
       "\n",
       "    .dataframe thead th {\n",
       "        text-align: right;\n",
       "    }\n",
       "</style>\n",
       "<table border=\"1\" class=\"dataframe\">\n",
       "  <thead>\n",
       "    <tr style=\"text-align: right;\">\n",
       "      <th></th>\n",
       "      <th>reviews.text</th>\n",
       "      <th>Lemma</th>\n",
       "      <th>Polarity</th>\n",
       "      <th>Analysis</th>\n",
       "    </tr>\n",
       "  </thead>\n",
       "  <tbody>\n",
       "    <tr>\n",
       "      <th>0</th>\n",
       "      <td>Our experience at Rancho Valencia was absolute...</td>\n",
       "      <td>experience Rancho Valencia absolutely perfec...</td>\n",
       "      <td>0.539286</td>\n",
       "      <td>Positive</td>\n",
       "    </tr>\n",
       "    <tr>\n",
       "      <th>1</th>\n",
       "      <td>Amazing place. Everyone was extremely warm and...</td>\n",
       "      <td>Amazing place Everyone extremely warm welcom...</td>\n",
       "      <td>0.475000</td>\n",
       "      <td>Positive</td>\n",
       "    </tr>\n",
       "    <tr>\n",
       "      <th>2</th>\n",
       "      <td>We booked a 3 night stay at Rancho Valencia to...</td>\n",
       "      <td>book night stay Rancho Valencia play tennis ...</td>\n",
       "      <td>0.484444</td>\n",
       "      <td>Positive</td>\n",
       "    </tr>\n",
       "    <tr>\n",
       "      <th>3</th>\n",
       "      <td>Currently in bed writing this for the past hr ...</td>\n",
       "      <td>Currently bed writing past hr dog bark squea...</td>\n",
       "      <td>-0.125000</td>\n",
       "      <td>Negative</td>\n",
       "    </tr>\n",
       "    <tr>\n",
       "      <th>4</th>\n",
       "      <td>I live in Md and the Aloft is my Home away fro...</td>\n",
       "      <td>live Md Aloft Home away home stay night Staf...</td>\n",
       "      <td>0.258701</td>\n",
       "      <td>Positive</td>\n",
       "    </tr>\n",
       "  </tbody>\n",
       "</table>\n",
       "</div>"
      ],
      "text/plain": [
       "                                        reviews.text  \\\n",
       "0  Our experience at Rancho Valencia was absolute...   \n",
       "1  Amazing place. Everyone was extremely warm and...   \n",
       "2  We booked a 3 night stay at Rancho Valencia to...   \n",
       "3  Currently in bed writing this for the past hr ...   \n",
       "4  I live in Md and the Aloft is my Home away fro...   \n",
       "\n",
       "                                               Lemma  Polarity  Analysis  \n",
       "0    experience Rancho Valencia absolutely perfec...  0.539286  Positive  \n",
       "1    Amazing place Everyone extremely warm welcom...  0.475000  Positive  \n",
       "2    book night stay Rancho Valencia play tennis ...  0.484444  Positive  \n",
       "3    Currently bed writing past hr dog bark squea... -0.125000  Negative  \n",
       "4    live Md Aloft Home away home stay night Staf...  0.258701  Positive  "
      ]
     },
     "execution_count": 302,
     "metadata": {},
     "output_type": "execute_result"
    }
   ],
   "source": [
    "# fin_data['Subjectivity'] = fin_data['Lemma'].apply(getSubjectivity) \n",
    "fin_data['Polarity'] = fin_data['Lemma'].apply(getPolarity) \n",
    "fin_data['Analysis'] = fin_data['Polarity'].apply(analysis)\n",
    "fin_data.head()"
   ]
  },
  {
   "cell_type": "code",
   "execution_count": 303,
   "metadata": {
    "colab": {
     "base_uri": "https://localhost:8080/"
    },
    "id": "73KRCsuorEPI",
    "outputId": "68b5d27a-10e8-4d03-e410-c3ff60f5bdf1"
   },
   "outputs": [
    {
     "data": {
      "text/plain": [
       "Positive    4455\n",
       "Negative     468\n",
       "Neutral       77\n",
       "Name: Analysis, dtype: int64"
      ]
     },
     "execution_count": 303,
     "metadata": {},
     "output_type": "execute_result"
    }
   ],
   "source": [
    "tb_counts = fin_data.Analysis.value_counts()\n",
    "tb_counts"
   ]
  },
  {
   "cell_type": "code",
   "execution_count": 304,
   "metadata": {
    "colab": {
     "base_uri": "https://localhost:8080/",
     "height": 567
    },
    "id": "nkMmTeZcrI7o",
    "outputId": "81c9de20-a846-4600-8641-2617094baa21"
   },
   "outputs": [
    {
     "data": {
      "text/plain": [
       "([<matplotlib.patches.Wedge at 0x7fd85db4ac70>,\n",
       "  <matplotlib.patches.Wedge at 0x7fd85dba23d0>,\n",
       "  <matplotlib.patches.Wedge at 0x7fd85dba29d0>],\n",
       " [Text(-1.0361342992410354, 0.3693585168048637, 'Positive'),\n",
       "  Text(1.0170590803645516, -0.41903559162440196, 'Negative'),\n",
       "  Text(1.3484203400665766, -0.0652884866935836, 'Neutral')],\n",
       " [Text(-0.5651641632223828, 0.201468281893562, '89.1%'),\n",
       "  Text(0.5547594983806645, -0.22856486815876467, '9.4%'),\n",
       "  Text(0.8490053993011778, -0.04110756569596004, '1.5%')])"
      ]
     },
     "execution_count": 304,
     "metadata": {},
     "output_type": "execute_result"
    },
    {
     "data": {
      "image/png": "[encoded data removed]",
      "text/plain": [
       "<Figure size 720x504 with 1 Axes>"
      ]
     },
     "metadata": {},
     "output_type": "display_data"
    }
   ],
   "source": [
    "import matplotlib.pyplot as plt\n",
    "%matplotlib inline\n",
    "\n",
    "tb_count= fin_data.Analysis.value_counts()\n",
    "plt.figure(figsize=(10, 7))\n",
    "plt.pie(tb_counts.values, labels = tb_counts.index, explode = (0, 0, 0.25), autopct='%1.1f%%', shadow=False)\n"
   ]
  },
  {
   "cell_type": "markdown",
   "metadata": {
    "id": "WKxJE-2jr4nI"
   },
   "source": [
    "# Analisis de sentimiento usando VADER"
   ]
  },
  {
   "cell_type": "code",
   "execution_count": 305,
   "metadata": {
    "colab": {
     "base_uri": "https://localhost:8080/"
    },
    "id": "bYfghE9trSln",
    "outputId": "8ff73a1f-b926-48fc-a7a6-345d1268036a"
   },
   "outputs": [],
   "source": [
    "#!pip install vaderSentiment\n"
   ]
  },
  {
   "cell_type": "code",
   "execution_count": 306,
   "metadata": {
    "id": "hwOdGnbNrLA6"
   },
   "outputs": [],
   "source": [
    "from vaderSentiment.vaderSentiment import SentimentIntensityAnalyzer\n",
    "analyzer = SentimentIntensityAnalyzer()\n",
    "\n",
    "# function to calculate vader sentiment  \n",
    "def vadersentimentanalysis(review):\n",
    "    vs = analyzer.polarity_scores(review)\n",
    "    return vs['compound']\n",
    "\n",
    "fin_data['Vader Sentiment'] = fin_data['Lemma'].apply(vadersentimentanalysis)"
   ]
  },
  {
   "cell_type": "code",
   "execution_count": 307,
   "metadata": {
    "colab": {
     "base_uri": "https://localhost:8080/",
     "height": 206
    },
    "id": "cXZ0Vh4IrXh9",
    "outputId": "25f356d5-7090-4b85-abf8-a34f12dc75df"
   },
   "outputs": [
    {
     "data": {
      "text/html": [
       "<div>\n",
       "<style scoped>\n",
       "    .dataframe tbody tr th:only-of-type {\n",
       "        vertical-align: middle;\n",
       "    }\n",
       "\n",
       "    .dataframe tbody tr th {\n",
       "        vertical-align: top;\n",
       "    }\n",
       "\n",
       "    .dataframe thead th {\n",
       "        text-align: right;\n",
       "    }\n",
       "</style>\n",
       "<table border=\"1\" class=\"dataframe\">\n",
       "  <thead>\n",
       "    <tr style=\"text-align: right;\">\n",
       "      <th></th>\n",
       "      <th>reviews.text</th>\n",
       "      <th>Lemma</th>\n",
       "      <th>Polarity</th>\n",
       "      <th>Analysis</th>\n",
       "      <th>Vader Sentiment</th>\n",
       "      <th>Vader Analysis</th>\n",
       "    </tr>\n",
       "  </thead>\n",
       "  <tbody>\n",
       "    <tr>\n",
       "      <th>0</th>\n",
       "      <td>Our experience at Rancho Valencia was absolute...</td>\n",
       "      <td>experience Rancho Valencia absolutely perfec...</td>\n",
       "      <td>0.539286</td>\n",
       "      <td>Positive</td>\n",
       "      <td>0.9392</td>\n",
       "      <td>Positive</td>\n",
       "    </tr>\n",
       "    <tr>\n",
       "      <th>1</th>\n",
       "      <td>Amazing place. Everyone was extremely warm and...</td>\n",
       "      <td>Amazing place Everyone extremely warm welcom...</td>\n",
       "      <td>0.475000</td>\n",
       "      <td>Positive</td>\n",
       "      <td>0.9656</td>\n",
       "      <td>Positive</td>\n",
       "    </tr>\n",
       "    <tr>\n",
       "      <th>2</th>\n",
       "      <td>We booked a 3 night stay at Rancho Valencia to...</td>\n",
       "      <td>book night stay Rancho Valencia play tennis ...</td>\n",
       "      <td>0.484444</td>\n",
       "      <td>Positive</td>\n",
       "      <td>0.9763</td>\n",
       "      <td>Positive</td>\n",
       "    </tr>\n",
       "    <tr>\n",
       "      <th>3</th>\n",
       "      <td>Currently in bed writing this for the past hr ...</td>\n",
       "      <td>Currently bed writing past hr dog bark squea...</td>\n",
       "      <td>-0.125000</td>\n",
       "      <td>Negative</td>\n",
       "      <td>0.0000</td>\n",
       "      <td>Neutral</td>\n",
       "    </tr>\n",
       "    <tr>\n",
       "      <th>4</th>\n",
       "      <td>I live in Md and the Aloft is my Home away fro...</td>\n",
       "      <td>live Md Aloft Home away home stay night Staf...</td>\n",
       "      <td>0.258701</td>\n",
       "      <td>Positive</td>\n",
       "      <td>0.8344</td>\n",
       "      <td>Positive</td>\n",
       "    </tr>\n",
       "  </tbody>\n",
       "</table>\n",
       "</div>"
      ],
      "text/plain": [
       "                                        reviews.text  \\\n",
       "0  Our experience at Rancho Valencia was absolute...   \n",
       "1  Amazing place. Everyone was extremely warm and...   \n",
       "2  We booked a 3 night stay at Rancho Valencia to...   \n",
       "3  Currently in bed writing this for the past hr ...   \n",
       "4  I live in Md and the Aloft is my Home away fro...   \n",
       "\n",
       "                                               Lemma  Polarity  Analysis  \\\n",
       "0    experience Rancho Valencia absolutely perfec...  0.539286  Positive   \n",
       "1    Amazing place Everyone extremely warm welcom...  0.475000  Positive   \n",
       "2    book night stay Rancho Valencia play tennis ...  0.484444  Positive   \n",
       "3    Currently bed writing past hr dog bark squea... -0.125000  Negative   \n",
       "4    live Md Aloft Home away home stay night Staf...  0.258701  Positive   \n",
       "\n",
       "   Vader Sentiment Vader Analysis  \n",
       "0           0.9392       Positive  \n",
       "1           0.9656       Positive  \n",
       "2           0.9763       Positive  \n",
       "3           0.0000        Neutral  \n",
       "4           0.8344       Positive  "
      ]
     },
     "execution_count": 307,
     "metadata": {},
     "output_type": "execute_result"
    }
   ],
   "source": [
    "# function to analyse \n",
    "def vader_analysis(compound):\n",
    "    if compound >= 0.5:\n",
    "        return 'Positive'\n",
    "    elif compound <= -0.5 :\n",
    "        return 'Negative'\n",
    "    else:\n",
    "        return 'Neutral'\n",
    "    \n",
    "fin_data['Vader Analysis'] = fin_data['Vader Sentiment'].apply(vader_analysis)\n",
    "fin_data.head()"
   ]
  },
  {
   "cell_type": "code",
   "execution_count": 308,
   "metadata": {
    "colab": {
     "base_uri": "https://localhost:8080/"
    },
    "id": "57zSkEBBrYrd",
    "outputId": "5036405f-8e1a-42a6-fd21-7dd7a22d3e43"
   },
   "outputs": [
    {
     "data": {
      "text/plain": [
       "Positive    3883\n",
       "Neutral      873\n",
       "Negative     244\n",
       "Name: Vader Analysis, dtype: int64"
      ]
     },
     "execution_count": 308,
     "metadata": {},
     "output_type": "execute_result"
    }
   ],
   "source": [
    "vader_counts = fin_data['Vader Analysis'].value_counts()\n",
    "vader_counts"
   ]
  },
  {
   "cell_type": "code",
   "execution_count": 309,
   "metadata": {
    "colab": {
     "base_uri": "https://localhost:8080/",
     "height": 567
    },
    "id": "NTluPFOnrb3O",
    "outputId": "4b575b7b-0ebc-46b6-ce92-58b1ef6fa5c6"
   },
   "outputs": [
    {
     "data": {
      "text/plain": [
       "([<matplotlib.patches.Wedge at 0x7fd8a76c30d0>,\n",
       "  <matplotlib.patches.Wedge at 0x7fd8a76c37f0>,\n",
       "  <matplotlib.patches.Wedge at 0x7fd8a76c3f10>],\n",
       " [Text(-0.9163930009420261, 0.774741161824043, 'Positive'),\n",
       "  Text(0.7217229180087926, -0.8301301281250271, 'Neutral'),\n",
       "  Text(1.0870981794414065, -0.16798079728105703, 'Negative')],\n",
       " [Text(-0.5345625838828485, 0.45193234439735835, '77.7%'),\n",
       "  Text(0.39366704618661413, -0.4527982517045602, '17.5%'),\n",
       "  Text(0.5929626433316763, -0.09162588942603109, '4.9%')])"
      ]
     },
     "execution_count": 309,
     "metadata": {},
     "output_type": "execute_result"
    },
    {
     "data": {
      "image/png": "[encoded data removed]",
      "text/plain": [
       "<Figure size 720x504 with 1 Axes>"
      ]
     },
     "metadata": {},
     "output_type": "display_data"
    }
   ],
   "source": [
    "vader_counts= fin_data['Vader Analysis'].value_counts()\n",
    "plt.figure(figsize=(10, 7))\n",
    "plt.pie(vader_counts.values, labels = vader_counts.index, explode = (0.1, 0, 0), autopct='%1.1f%%', shadow=False)\n",
    "# plt.legend()"
   ]
  },
  {
   "cell_type": "markdown",
   "metadata": {
    "id": "StSqLmD7rh3s"
   },
   "source": [
    "# Analisis using SentiWordNet"
   ]
  },
  {
   "cell_type": "code",
   "execution_count": 310,
   "metadata": {
    "colab": {
     "base_uri": "https://localhost:8080/",
     "height": 241
    },
    "id": "6euR5lkjrnyF",
    "outputId": "be35425e-6a68-4928-d466-34ec4e7bfe75"
   },
   "outputs": [
    {
     "name": "stderr",
     "output_type": "stream",
     "text": [
      "[nltk_data] Downloading package sentiwordnet to\n",
      "[nltk_data]     /Users/alder.lopez/nltk_data...\n",
      "[nltk_data]   Package sentiwordnet is already up-to-date!\n"
     ]
    },
    {
     "data": {
      "text/html": [
       "<div>\n",
       "<style scoped>\n",
       "    .dataframe tbody tr th:only-of-type {\n",
       "        vertical-align: middle;\n",
       "    }\n",
       "\n",
       "    .dataframe tbody tr th {\n",
       "        vertical-align: top;\n",
       "    }\n",
       "\n",
       "    .dataframe thead th {\n",
       "        text-align: right;\n",
       "    }\n",
       "</style>\n",
       "<table border=\"1\" class=\"dataframe\">\n",
       "  <thead>\n",
       "    <tr style=\"text-align: right;\">\n",
       "      <th></th>\n",
       "      <th>reviews.text</th>\n",
       "      <th>Lemma</th>\n",
       "      <th>Polarity</th>\n",
       "      <th>Analysis</th>\n",
       "      <th>Vader Sentiment</th>\n",
       "      <th>Vader Analysis</th>\n",
       "      <th>SWN analysis</th>\n",
       "    </tr>\n",
       "  </thead>\n",
       "  <tbody>\n",
       "    <tr>\n",
       "      <th>0</th>\n",
       "      <td>Our experience at Rancho Valencia was absolute...</td>\n",
       "      <td>experience Rancho Valencia absolutely perfec...</td>\n",
       "      <td>0.539286</td>\n",
       "      <td>Positive</td>\n",
       "      <td>0.9392</td>\n",
       "      <td>Positive</td>\n",
       "      <td>Positive</td>\n",
       "    </tr>\n",
       "    <tr>\n",
       "      <th>1</th>\n",
       "      <td>Amazing place. Everyone was extremely warm and...</td>\n",
       "      <td>Amazing place Everyone extremely warm welcom...</td>\n",
       "      <td>0.475000</td>\n",
       "      <td>Positive</td>\n",
       "      <td>0.9656</td>\n",
       "      <td>Positive</td>\n",
       "      <td>Positive</td>\n",
       "    </tr>\n",
       "    <tr>\n",
       "      <th>2</th>\n",
       "      <td>We booked a 3 night stay at Rancho Valencia to...</td>\n",
       "      <td>book night stay Rancho Valencia play tennis ...</td>\n",
       "      <td>0.484444</td>\n",
       "      <td>Positive</td>\n",
       "      <td>0.9763</td>\n",
       "      <td>Positive</td>\n",
       "      <td>Positive</td>\n",
       "    </tr>\n",
       "    <tr>\n",
       "      <th>3</th>\n",
       "      <td>Currently in bed writing this for the past hr ...</td>\n",
       "      <td>Currently bed writing past hr dog bark squea...</td>\n",
       "      <td>-0.125000</td>\n",
       "      <td>Negative</td>\n",
       "      <td>0.0000</td>\n",
       "      <td>Neutral</td>\n",
       "      <td>Neutral</td>\n",
       "    </tr>\n",
       "    <tr>\n",
       "      <th>4</th>\n",
       "      <td>I live in Md and the Aloft is my Home away fro...</td>\n",
       "      <td>live Md Aloft Home away home stay night Staf...</td>\n",
       "      <td>0.258701</td>\n",
       "      <td>Positive</td>\n",
       "      <td>0.8344</td>\n",
       "      <td>Positive</td>\n",
       "      <td>Positive</td>\n",
       "    </tr>\n",
       "  </tbody>\n",
       "</table>\n",
       "</div>"
      ],
      "text/plain": [
       "                                        reviews.text  \\\n",
       "0  Our experience at Rancho Valencia was absolute...   \n",
       "1  Amazing place. Everyone was extremely warm and...   \n",
       "2  We booked a 3 night stay at Rancho Valencia to...   \n",
       "3  Currently in bed writing this for the past hr ...   \n",
       "4  I live in Md and the Aloft is my Home away fro...   \n",
       "\n",
       "                                               Lemma  Polarity  Analysis  \\\n",
       "0    experience Rancho Valencia absolutely perfec...  0.539286  Positive   \n",
       "1    Amazing place Everyone extremely warm welcom...  0.475000  Positive   \n",
       "2    book night stay Rancho Valencia play tennis ...  0.484444  Positive   \n",
       "3    Currently bed writing past hr dog bark squea... -0.125000  Negative   \n",
       "4    live Md Aloft Home away home stay night Staf...  0.258701  Positive   \n",
       "\n",
       "   Vader Sentiment Vader Analysis SWN analysis  \n",
       "0           0.9392       Positive     Positive  \n",
       "1           0.9656       Positive     Positive  \n",
       "2           0.9763       Positive     Positive  \n",
       "3           0.0000        Neutral      Neutral  \n",
       "4           0.8344       Positive     Positive  "
      ]
     },
     "execution_count": 310,
     "metadata": {},
     "output_type": "execute_result"
    }
   ],
   "source": [
    "nltk.download('sentiwordnet')\n",
    "from nltk.corpus import sentiwordnet as swn\n",
    "\n",
    "def sentiwordnetanalysis(pos_data):\n",
    "    sentiment = 0\n",
    "    tokens_count = 0\n",
    "    for word, pos in pos_data:\n",
    "        if not pos:\n",
    "            continue\n",
    "        lemma = wordnet_lemmatizer.lemmatize(word, pos=pos)\n",
    "        if not lemma:\n",
    "            continue\n",
    "        \n",
    "        synsets = wordnet.synsets(lemma, pos=pos)\n",
    "        if not synsets:\n",
    "            continue\n",
    "\n",
    "        # Take the first sense, the most common\n",
    "        synset = synsets[0]\n",
    "        swn_synset = swn.senti_synset(synset.name())\n",
    "        sentiment += swn_synset.pos_score() - swn_synset.neg_score()\n",
    "        tokens_count += 1\n",
    "        # print(swn_synset.pos_score(),swn_synset.neg_score(),swn_synset.obj_score())\n",
    "    if not tokens_count:\n",
    "        return 0\n",
    "    if sentiment>0:\n",
    "        return \"Positive\"\n",
    "    if sentiment==0:\n",
    "        return \"Neutral\"\n",
    "    else:\n",
    "        return \"Negative\"\n",
    "\n",
    "fin_data['SWN analysis'] = dataset['POS tagged'].apply(sentiwordnetanalysis)\n",
    "fin_data.head()"
   ]
  },
  {
   "cell_type": "code",
   "execution_count": 311,
   "metadata": {
    "colab": {
     "base_uri": "https://localhost:8080/"
    },
    "id": "p_5G9sJPrurN",
    "outputId": "7254185e-ad0b-49d0-f987-a7b1c5dc429d"
   },
   "outputs": [
    {
     "data": {
      "text/plain": [
       "Positive    3727\n",
       "Negative    1046\n",
       "Neutral      219\n",
       "0              8\n",
       "Name: SWN analysis, dtype: int64"
      ]
     },
     "execution_count": 311,
     "metadata": {},
     "output_type": "execute_result"
    }
   ],
   "source": [
    "swn_counts= fin_data['SWN analysis'].value_counts()\n",
    "swn_counts"
   ]
  },
  {
   "cell_type": "code",
   "execution_count": 312,
   "metadata": {
    "colab": {
     "base_uri": "https://localhost:8080/",
     "height": 567
    },
    "id": "35o1f5bhrxLI",
    "outputId": "6ac20576-a7ea-4fb1-d414-05b264217683"
   },
   "outputs": [
    {
     "data": {
      "text/plain": [
       "Positive    3727\n",
       "Negative    1046\n",
       "Neutral      219\n",
       "0              8\n",
       "Name: SWN analysis, dtype: int64"
      ]
     },
     "execution_count": 312,
     "metadata": {},
     "output_type": "execute_result"
    }
   ],
   "source": [
    "swn_counts= fin_data['SWN analysis'].value_counts()\n",
    "swn_counts"
   ]
  },
  {
   "cell_type": "code",
   "execution_count": 313,
   "metadata": {},
   "outputs": [
    {
     "data": {
      "text/html": [
       "<div>\n",
       "<style scoped>\n",
       "    .dataframe tbody tr th:only-of-type {\n",
       "        vertical-align: middle;\n",
       "    }\n",
       "\n",
       "    .dataframe tbody tr th {\n",
       "        vertical-align: top;\n",
       "    }\n",
       "\n",
       "    .dataframe thead th {\n",
       "        text-align: right;\n",
       "    }\n",
       "</style>\n",
       "<table border=\"1\" class=\"dataframe\">\n",
       "  <thead>\n",
       "    <tr style=\"text-align: right;\">\n",
       "      <th></th>\n",
       "      <th>reviews.text</th>\n",
       "      <th>Lemma</th>\n",
       "      <th>Polarity</th>\n",
       "      <th>Analysis</th>\n",
       "      <th>Vader Sentiment</th>\n",
       "      <th>Vader Analysis</th>\n",
       "      <th>SWN analysis</th>\n",
       "    </tr>\n",
       "  </thead>\n",
       "  <tbody>\n",
       "    <tr>\n",
       "      <th>0</th>\n",
       "      <td>Our experience at Rancho Valencia was absolute...</td>\n",
       "      <td>experience Rancho Valencia absolutely perfec...</td>\n",
       "      <td>0.539286</td>\n",
       "      <td>Positive</td>\n",
       "      <td>0.9392</td>\n",
       "      <td>Positive</td>\n",
       "      <td>Positive</td>\n",
       "    </tr>\n",
       "    <tr>\n",
       "      <th>1</th>\n",
       "      <td>Amazing place. Everyone was extremely warm and...</td>\n",
       "      <td>Amazing place Everyone extremely warm welcom...</td>\n",
       "      <td>0.475000</td>\n",
       "      <td>Positive</td>\n",
       "      <td>0.9656</td>\n",
       "      <td>Positive</td>\n",
       "      <td>Positive</td>\n",
       "    </tr>\n",
       "    <tr>\n",
       "      <th>2</th>\n",
       "      <td>We booked a 3 night stay at Rancho Valencia to...</td>\n",
       "      <td>book night stay Rancho Valencia play tennis ...</td>\n",
       "      <td>0.484444</td>\n",
       "      <td>Positive</td>\n",
       "      <td>0.9763</td>\n",
       "      <td>Positive</td>\n",
       "      <td>Positive</td>\n",
       "    </tr>\n",
       "    <tr>\n",
       "      <th>3</th>\n",
       "      <td>Currently in bed writing this for the past hr ...</td>\n",
       "      <td>Currently bed writing past hr dog bark squea...</td>\n",
       "      <td>-0.125000</td>\n",
       "      <td>Negative</td>\n",
       "      <td>0.0000</td>\n",
       "      <td>Neutral</td>\n",
       "      <td>Neutral</td>\n",
       "    </tr>\n",
       "    <tr>\n",
       "      <th>4</th>\n",
       "      <td>I live in Md and the Aloft is my Home away fro...</td>\n",
       "      <td>live Md Aloft Home away home stay night Staf...</td>\n",
       "      <td>0.258701</td>\n",
       "      <td>Positive</td>\n",
       "      <td>0.8344</td>\n",
       "      <td>Positive</td>\n",
       "      <td>Positive</td>\n",
       "    </tr>\n",
       "    <tr>\n",
       "      <th>...</th>\n",
       "      <td>...</td>\n",
       "      <td>...</td>\n",
       "      <td>...</td>\n",
       "      <td>...</td>\n",
       "      <td>...</td>\n",
       "      <td>...</td>\n",
       "      <td>...</td>\n",
       "    </tr>\n",
       "    <tr>\n",
       "      <th>4995</th>\n",
       "      <td>Ventilation system was blowing cigarette smoke...</td>\n",
       "      <td>Ventilation system blow cigarette smoke room...</td>\n",
       "      <td>0.175000</td>\n",
       "      <td>Positive</td>\n",
       "      <td>0.0772</td>\n",
       "      <td>Neutral</td>\n",
       "      <td>Negative</td>\n",
       "    </tr>\n",
       "    <tr>\n",
       "      <th>4996</th>\n",
       "      <td>This hotel has a lot to offer at a good value....</td>\n",
       "      <td>hotel lot offer good value suite spacious pr...</td>\n",
       "      <td>0.336538</td>\n",
       "      <td>Positive</td>\n",
       "      <td>0.9806</td>\n",
       "      <td>Positive</td>\n",
       "      <td>Positive</td>\n",
       "    </tr>\n",
       "    <tr>\n",
       "      <th>4997</th>\n",
       "      <td>Staff was very helpful and responsive. The roo...</td>\n",
       "      <td>Staff helpful responsive room pool parking c...</td>\n",
       "      <td>-0.039167</td>\n",
       "      <td>Negative</td>\n",
       "      <td>0.8316</td>\n",
       "      <td>Positive</td>\n",
       "      <td>Positive</td>\n",
       "    </tr>\n",
       "    <tr>\n",
       "      <th>4998</th>\n",
       "      <td>We stayed at this hotel the last week in Decem...</td>\n",
       "      <td>stay hotel last week December weather extrem...</td>\n",
       "      <td>0.134722</td>\n",
       "      <td>Positive</td>\n",
       "      <td>0.8360</td>\n",
       "      <td>Positive</td>\n",
       "      <td>Positive</td>\n",
       "    </tr>\n",
       "    <tr>\n",
       "      <th>4999</th>\n",
       "      <td>We took our two grand children to see DC and s...</td>\n",
       "      <td>take two grand child see DC stay Embassy con...</td>\n",
       "      <td>0.338095</td>\n",
       "      <td>Positive</td>\n",
       "      <td>0.9788</td>\n",
       "      <td>Positive</td>\n",
       "      <td>Positive</td>\n",
       "    </tr>\n",
       "  </tbody>\n",
       "</table>\n",
       "<p>5000 rows × 7 columns</p>\n",
       "</div>"
      ],
      "text/plain": [
       "                                           reviews.text  \\\n",
       "0     Our experience at Rancho Valencia was absolute...   \n",
       "1     Amazing place. Everyone was extremely warm and...   \n",
       "2     We booked a 3 night stay at Rancho Valencia to...   \n",
       "3     Currently in bed writing this for the past hr ...   \n",
       "4     I live in Md and the Aloft is my Home away fro...   \n",
       "...                                                 ...   \n",
       "4995  Ventilation system was blowing cigarette smoke...   \n",
       "4996  This hotel has a lot to offer at a good value....   \n",
       "4997  Staff was very helpful and responsive. The roo...   \n",
       "4998  We stayed at this hotel the last week in Decem...   \n",
       "4999  We took our two grand children to see DC and s...   \n",
       "\n",
       "                                                  Lemma  Polarity  Analysis  \\\n",
       "0       experience Rancho Valencia absolutely perfec...  0.539286  Positive   \n",
       "1       Amazing place Everyone extremely warm welcom...  0.475000  Positive   \n",
       "2       book night stay Rancho Valencia play tennis ...  0.484444  Positive   \n",
       "3       Currently bed writing past hr dog bark squea... -0.125000  Negative   \n",
       "4       live Md Aloft Home away home stay night Staf...  0.258701  Positive   \n",
       "...                                                 ...       ...       ...   \n",
       "4995    Ventilation system blow cigarette smoke room...  0.175000  Positive   \n",
       "4996    hotel lot offer good value suite spacious pr...  0.336538  Positive   \n",
       "4997    Staff helpful responsive room pool parking c... -0.039167  Negative   \n",
       "4998    stay hotel last week December weather extrem...  0.134722  Positive   \n",
       "4999    take two grand child see DC stay Embassy con...  0.338095  Positive   \n",
       "\n",
       "      Vader Sentiment Vader Analysis SWN analysis  \n",
       "0              0.9392       Positive     Positive  \n",
       "1              0.9656       Positive     Positive  \n",
       "2              0.9763       Positive     Positive  \n",
       "3              0.0000        Neutral      Neutral  \n",
       "4              0.8344       Positive     Positive  \n",
       "...               ...            ...          ...  \n",
       "4995           0.0772        Neutral     Negative  \n",
       "4996           0.9806       Positive     Positive  \n",
       "4997           0.8316       Positive     Positive  \n",
       "4998           0.8360       Positive     Positive  \n",
       "4999           0.9788       Positive     Positive  \n",
       "\n",
       "[5000 rows x 7 columns]"
      ]
     },
     "execution_count": 313,
     "metadata": {},
     "output_type": "execute_result"
    }
   ],
   "source": [
    "fin_data"
   ]
  },
  {
   "cell_type": "code",
   "execution_count": 314,
   "metadata": {},
   "outputs": [],
   "source": [
    "# se agrego el cero en explode = (0.1, 0, 0,0) "
   ]
  },
  {
   "cell_type": "code",
   "execution_count": 315,
   "metadata": {},
   "outputs": [
    {
     "data": {
      "text/plain": [
       "([<matplotlib.patches.Wedge at 0x7fd8a76ffdf0>,\n",
       "  <matplotlib.patches.Wedge at 0x7fd8a76f3550>,\n",
       "  <matplotlib.patches.Wedge at 0x7fd8a76f3c70>,\n",
       "  <matplotlib.patches.Wedge at 0x7fd861a393d0>],\n",
       " [Text(-0.8361776364080531, 0.8607014350929374, 'Positive'),\n",
       "  Text(0.6465638275138399, -0.8899186574910393, 'Negative'),\n",
       "  Text(1.0880307005492336, -0.16183075932079216, 'Neutral'),\n",
       "  Text(1.0999861038494039, -0.005529135394310538, '0')],\n",
       " [Text(-0.48777028790469756, 0.5020758371375468, '74.5%'),\n",
       "  Text(0.3526711786439127, -0.48541017681329407, '20.9%'),\n",
       "  Text(0.5934712912086728, -0.08827132326588662, '4.4%'),\n",
       "  Text(0.5999924202814929, -0.0030158920332602934, '0.2%')])"
      ]
     },
     "execution_count": 315,
     "metadata": {},
     "output_type": "execute_result"
    },
    {
     "data": {
      "image/png": "[encoded data removed]",
      "text/plain": [
       "<Figure size 720x504 with 1 Axes>"
      ]
     },
     "metadata": {},
     "output_type": "display_data"
    }
   ],
   "source": [
    "\n",
    "plt.figure(figsize=(10, 7))\n",
    "plt.pie(swn_counts.values, labels = swn_counts.index, explode = (0.1, 0, 0,0), autopct='%1.1f%%', shadow=False)\n"
   ]
  },
  {
   "cell_type": "code",
   "execution_count": 316,
   "metadata": {},
   "outputs": [],
   "source": [
    "# se agrega el cero al ultimmo pie"
   ]
  },
  {
   "cell_type": "code",
   "execution_count": 317,
   "metadata": {},
   "outputs": [
    {
     "data": {
      "text/plain": [
       "([<matplotlib.patches.Wedge at 0x7fd8a7754df0>,\n",
       "  <matplotlib.patches.Wedge at 0x7fd8a7710550>,\n",
       "  <matplotlib.patches.Wedge at 0x7fd8a7710b50>,\n",
       "  <matplotlib.patches.Wedge at 0x7fd8a771d2b0>],\n",
       " [Text(-0.766496166707382, 0.7889763155018593, 'Positive'),\n",
       "  Text(0.6465638275138399, -0.8899186574910393, 'Negative'),\n",
       "  Text(1.0880307005492336, -0.16183075932079216, 'Neutral'),\n",
       "  Text(1.3499829456333592, -0.00678575707483566, '0')],\n",
       " [Text(-0.4180888182040265, 0.43035071754646864, '74.5%'),\n",
       "  Text(0.3526711786439127, -0.48541017681329407, '20.9%'),\n",
       "  Text(0.5934712912086728, -0.08827132326588662, '4.4%'),\n",
       "  Text(0.8499892620654483, -0.004272513713785416, '0.2%')])"
      ]
     },
     "execution_count": 317,
     "metadata": {},
     "output_type": "execute_result"
    },
    {
     "data": {
      "image/png": "[encoded data removed]",
      "text/plain": [
       "<Figure size 1080x504 with 3 Axes>"
      ]
     },
     "metadata": {},
     "output_type": "display_data"
    }
   ],
   "source": [
    "import matplotlib.pyplot as plt\n",
    "%matplotlib inline\n",
    "\n",
    "plt.figure(figsize=(15,7))\n",
    "plt.subplot(1,3,1)\n",
    "plt.title(\"TextBlob results\")\n",
    "plt.pie(tb_counts.values, labels = tb_counts.index, explode = (0, 0, 0.25), autopct='%1.1f%%', shadow=False)\n",
    "\n",
    "plt.subplot(1,3,2)\n",
    "plt.title(\"VADER results\")\n",
    "plt.pie(vader_counts.values, labels = vader_counts.index, explode = (0, 0, 0.25), autopct='%1.1f%%', shadow=False)\n",
    "\n",
    "\n",
    "\n",
    "plt.subplot(1,3,3)\n",
    "plt.title(\"SentiWordNet results\")\n",
    "plt.pie(swn_counts.values, labels = swn_counts.index, explode = (0, 0,0, 0.25), autopct='%1.1f%%', shadow=False)"
   ]
  },
  {
   "cell_type": "code",
   "execution_count": 318,
   "metadata": {},
   "outputs": [],
   "source": [
    "# se tomare fin_data como input al procesamiento con RandomForest"
   ]
  },
  {
   "cell_type": "code",
   "execution_count": 319,
   "metadata": {},
   "outputs": [
    {
     "data": {
      "text/html": [
       "<div>\n",
       "<style scoped>\n",
       "    .dataframe tbody tr th:only-of-type {\n",
       "        vertical-align: middle;\n",
       "    }\n",
       "\n",
       "    .dataframe tbody tr th {\n",
       "        vertical-align: top;\n",
       "    }\n",
       "\n",
       "    .dataframe thead th {\n",
       "        text-align: right;\n",
       "    }\n",
       "</style>\n",
       "<table border=\"1\" class=\"dataframe\">\n",
       "  <thead>\n",
       "    <tr style=\"text-align: right;\">\n",
       "      <th></th>\n",
       "      <th>reviews.text</th>\n",
       "      <th>Lemma</th>\n",
       "      <th>Polarity</th>\n",
       "      <th>Analysis</th>\n",
       "      <th>Vader Sentiment</th>\n",
       "      <th>Vader Analysis</th>\n",
       "      <th>SWN analysis</th>\n",
       "    </tr>\n",
       "  </thead>\n",
       "  <tbody>\n",
       "    <tr>\n",
       "      <th>0</th>\n",
       "      <td>Our experience at Rancho Valencia was absolute...</td>\n",
       "      <td>experience Rancho Valencia absolutely perfec...</td>\n",
       "      <td>0.539286</td>\n",
       "      <td>Positive</td>\n",
       "      <td>0.9392</td>\n",
       "      <td>Positive</td>\n",
       "      <td>Positive</td>\n",
       "    </tr>\n",
       "    <tr>\n",
       "      <th>1</th>\n",
       "      <td>Amazing place. Everyone was extremely warm and...</td>\n",
       "      <td>Amazing place Everyone extremely warm welcom...</td>\n",
       "      <td>0.475000</td>\n",
       "      <td>Positive</td>\n",
       "      <td>0.9656</td>\n",
       "      <td>Positive</td>\n",
       "      <td>Positive</td>\n",
       "    </tr>\n",
       "    <tr>\n",
       "      <th>2</th>\n",
       "      <td>We booked a 3 night stay at Rancho Valencia to...</td>\n",
       "      <td>book night stay Rancho Valencia play tennis ...</td>\n",
       "      <td>0.484444</td>\n",
       "      <td>Positive</td>\n",
       "      <td>0.9763</td>\n",
       "      <td>Positive</td>\n",
       "      <td>Positive</td>\n",
       "    </tr>\n",
       "    <tr>\n",
       "      <th>3</th>\n",
       "      <td>Currently in bed writing this for the past hr ...</td>\n",
       "      <td>Currently bed writing past hr dog bark squea...</td>\n",
       "      <td>-0.125000</td>\n",
       "      <td>Negative</td>\n",
       "      <td>0.0000</td>\n",
       "      <td>Neutral</td>\n",
       "      <td>Neutral</td>\n",
       "    </tr>\n",
       "    <tr>\n",
       "      <th>4</th>\n",
       "      <td>I live in Md and the Aloft is my Home away fro...</td>\n",
       "      <td>live Md Aloft Home away home stay night Staf...</td>\n",
       "      <td>0.258701</td>\n",
       "      <td>Positive</td>\n",
       "      <td>0.8344</td>\n",
       "      <td>Positive</td>\n",
       "      <td>Positive</td>\n",
       "    </tr>\n",
       "    <tr>\n",
       "      <th>...</th>\n",
       "      <td>...</td>\n",
       "      <td>...</td>\n",
       "      <td>...</td>\n",
       "      <td>...</td>\n",
       "      <td>...</td>\n",
       "      <td>...</td>\n",
       "      <td>...</td>\n",
       "    </tr>\n",
       "    <tr>\n",
       "      <th>4995</th>\n",
       "      <td>Ventilation system was blowing cigarette smoke...</td>\n",
       "      <td>Ventilation system blow cigarette smoke room...</td>\n",
       "      <td>0.175000</td>\n",
       "      <td>Positive</td>\n",
       "      <td>0.0772</td>\n",
       "      <td>Neutral</td>\n",
       "      <td>Negative</td>\n",
       "    </tr>\n",
       "    <tr>\n",
       "      <th>4996</th>\n",
       "      <td>This hotel has a lot to offer at a good value....</td>\n",
       "      <td>hotel lot offer good value suite spacious pr...</td>\n",
       "      <td>0.336538</td>\n",
       "      <td>Positive</td>\n",
       "      <td>0.9806</td>\n",
       "      <td>Positive</td>\n",
       "      <td>Positive</td>\n",
       "    </tr>\n",
       "    <tr>\n",
       "      <th>4997</th>\n",
       "      <td>Staff was very helpful and responsive. The roo...</td>\n",
       "      <td>Staff helpful responsive room pool parking c...</td>\n",
       "      <td>-0.039167</td>\n",
       "      <td>Negative</td>\n",
       "      <td>0.8316</td>\n",
       "      <td>Positive</td>\n",
       "      <td>Positive</td>\n",
       "    </tr>\n",
       "    <tr>\n",
       "      <th>4998</th>\n",
       "      <td>We stayed at this hotel the last week in Decem...</td>\n",
       "      <td>stay hotel last week December weather extrem...</td>\n",
       "      <td>0.134722</td>\n",
       "      <td>Positive</td>\n",
       "      <td>0.8360</td>\n",
       "      <td>Positive</td>\n",
       "      <td>Positive</td>\n",
       "    </tr>\n",
       "    <tr>\n",
       "      <th>4999</th>\n",
       "      <td>We took our two grand children to see DC and s...</td>\n",
       "      <td>take two grand child see DC stay Embassy con...</td>\n",
       "      <td>0.338095</td>\n",
       "      <td>Positive</td>\n",
       "      <td>0.9788</td>\n",
       "      <td>Positive</td>\n",
       "      <td>Positive</td>\n",
       "    </tr>\n",
       "  </tbody>\n",
       "</table>\n",
       "<p>5000 rows × 7 columns</p>\n",
       "</div>"
      ],
      "text/plain": [
       "                                           reviews.text  \\\n",
       "0     Our experience at Rancho Valencia was absolute...   \n",
       "1     Amazing place. Everyone was extremely warm and...   \n",
       "2     We booked a 3 night stay at Rancho Valencia to...   \n",
       "3     Currently in bed writing this for the past hr ...   \n",
       "4     I live in Md and the Aloft is my Home away fro...   \n",
       "...                                                 ...   \n",
       "4995  Ventilation system was blowing cigarette smoke...   \n",
       "4996  This hotel has a lot to offer at a good value....   \n",
       "4997  Staff was very helpful and responsive. The roo...   \n",
       "4998  We stayed at this hotel the last week in Decem...   \n",
       "4999  We took our two grand children to see DC and s...   \n",
       "\n",
       "                                                  Lemma  Polarity  Analysis  \\\n",
       "0       experience Rancho Valencia absolutely perfec...  0.539286  Positive   \n",
       "1       Amazing place Everyone extremely warm welcom...  0.475000  Positive   \n",
       "2       book night stay Rancho Valencia play tennis ...  0.484444  Positive   \n",
       "3       Currently bed writing past hr dog bark squea... -0.125000  Negative   \n",
       "4       live Md Aloft Home away home stay night Staf...  0.258701  Positive   \n",
       "...                                                 ...       ...       ...   \n",
       "4995    Ventilation system blow cigarette smoke room...  0.175000  Positive   \n",
       "4996    hotel lot offer good value suite spacious pr...  0.336538  Positive   \n",
       "4997    Staff helpful responsive room pool parking c... -0.039167  Negative   \n",
       "4998    stay hotel last week December weather extrem...  0.134722  Positive   \n",
       "4999    take two grand child see DC stay Embassy con...  0.338095  Positive   \n",
       "\n",
       "      Vader Sentiment Vader Analysis SWN analysis  \n",
       "0              0.9392       Positive     Positive  \n",
       "1              0.9656       Positive     Positive  \n",
       "2              0.9763       Positive     Positive  \n",
       "3              0.0000        Neutral      Neutral  \n",
       "4              0.8344       Positive     Positive  \n",
       "...               ...            ...          ...  \n",
       "4995           0.0772        Neutral     Negative  \n",
       "4996           0.9806       Positive     Positive  \n",
       "4997           0.8316       Positive     Positive  \n",
       "4998           0.8360       Positive     Positive  \n",
       "4999           0.9788       Positive     Positive  \n",
       "\n",
       "[5000 rows x 7 columns]"
      ]
     },
     "execution_count": 319,
     "metadata": {},
     "output_type": "execute_result"
    }
   ],
   "source": [
    "fin_data"
   ]
  },
  {
   "cell_type": "code",
   "execution_count": 321,
   "metadata": {},
   "outputs": [],
   "source": [
    "# se toma el valor del sentimiento y el texto "
   ]
  },
  {
   "cell_type": "code",
   "execution_count": 322,
   "metadata": {
    "id": "mnogOSh8uzTf"
   },
   "outputs": [],
   "source": [
    "features = fin_data.iloc[:, 0].values\n",
    "labels = fin_data.iloc[:, 3].values"
   ]
  },
  {
   "cell_type": "code",
   "execution_count": 323,
   "metadata": {
    "id": "uwFiaQ-ku2pq"
   },
   "outputs": [],
   "source": [
    "processed_features = []\n",
    "\n",
    "for sentence in range(0, len(features)):\n",
    "    # Remove all the special characters\n",
    "    processed_feature = re.sub(r'\\W', ' ', str(features[sentence]))\n",
    "    # remove all single characters\n",
    "    processed_feature= re.sub(r'\\s+[a-zA-Z]\\s+', ' ', processed_feature)\n",
    "    # Remove single characters from the start\n",
    "    processed_feature = re.sub(r'\\^[a-zA-Z]\\s+', ' ', processed_feature) \n",
    "    # Substituting multiple spaces with single space\n",
    "    processed_feature = re.sub(r'\\s+', ' ', processed_feature, flags=re.I)\n",
    "    # Removing prefixed 'b'\n",
    "    processed_feature = re.sub(r'^b\\s+', '', processed_feature)\n",
    "    # Converting to Lowercase\n",
    "    processed_feature = processed_feature.lower()\n",
    "\n",
    "    processed_features.append(processed_feature)"
   ]
  },
  {
   "cell_type": "code",
   "execution_count": 324,
   "metadata": {
    "id": "DR2TIaD0u7U6"
   },
   "outputs": [],
   "source": [
    "from nltk.corpus import stopwords\n",
    "from sklearn.feature_extraction.text import TfidfVectorizer\n",
    "\n",
    "vectorizer = TfidfVectorizer (max_features=2500, min_df=7, max_df=0.8, stop_words=stopwords.words('english'))\n",
    "\n",
    "processed_features = vectorizer.fit_transform(processed_features).toarray()"
   ]
  },
  {
   "cell_type": "code",
   "execution_count": 325,
   "metadata": {
    "id": "ny1z1ZHQvM1-"
   },
   "outputs": [],
   "source": [
    "from sklearn.model_selection import train_test_split\n",
    "\n",
    "X_train, X_test, y_train, y_test = train_test_split(processed_features, labels, test_size=0.2, random_state=0)"
   ]
  },
  {
   "cell_type": "code",
   "execution_count": 326,
   "metadata": {
    "colab": {
     "base_uri": "https://localhost:8080/"
    },
    "id": "SfyqTjw-vN_L",
    "outputId": "c2b9d2d0-d722-4dc1-91fb-b7f6ab480dd7"
   },
   "outputs": [
    {
     "data": {
      "text/plain": [
       "RandomForestClassifier(n_estimators=200, random_state=0)"
      ]
     },
     "execution_count": 326,
     "metadata": {},
     "output_type": "execute_result"
    }
   ],
   "source": [
    "from sklearn.ensemble import RandomForestClassifier\n",
    "\n",
    "text_classifier = RandomForestClassifier(n_estimators=200, random_state=0)\n",
    "text_classifier.fit(X_train, y_train)"
   ]
  },
  {
   "cell_type": "markdown",
   "metadata": {
    "id": "b3bsAUEPxRjW"
   },
   "source": [
    "Usando la libreria de sklearn, randomforestclassifier, podemos entrenar un modelo de aprendizaje de maquina que nos ayuda a predecir el sentimiento del tweet."
   ]
  },
  {
   "cell_type": "code",
   "execution_count": 327,
   "metadata": {
    "id": "SVLVAppXvgJF"
   },
   "outputs": [],
   "source": [
    "predictions = text_classifier.predict(X_test)\n"
   ]
  },
  {
   "cell_type": "code",
   "execution_count": 328,
   "metadata": {
    "colab": {
     "base_uri": "https://localhost:8080/"
    },
    "id": "dHi07Nl2vh-O",
    "outputId": "99e22ba2-3325-4813-a10d-94ddabbc004f"
   },
   "outputs": [
    {
     "name": "stdout",
     "output_type": "stream",
     "text": [
      "[[ 29   0  58]\n",
      " [  0   3  10]\n",
      " [  3   3 894]]\n",
      "              precision    recall  f1-score   support\n",
      "\n",
      "    Negative       0.91      0.33      0.49        87\n",
      "     Neutral       0.50      0.23      0.32        13\n",
      "    Positive       0.93      0.99      0.96       900\n",
      "\n",
      "    accuracy                           0.93      1000\n",
      "   macro avg       0.78      0.52      0.59      1000\n",
      "weighted avg       0.92      0.93      0.91      1000\n",
      "\n",
      "0.926\n"
     ]
    }
   ],
   "source": [
    "from sklearn.metrics import classification_report, confusion_matrix, accuracy_score\n",
    "\n",
    "print(confusion_matrix(y_test,predictions))\n",
    "print(classification_report(y_test,predictions))\n",
    "print(accuracy_score(y_test, predictions))"
   ]
  },
  {
   "cell_type": "markdown",
   "metadata": {
    "id": "HbjAT2LcxjCl"
   },
   "source": [
    "Al final tenemos una exactitud del 92 porciento en la prediccion de analisis de sentimiento, el pudiera variar  si utilizamos otro tipo de modelo, como regresion logistica, Maquina de soporte vectorial y k vecinos.\n"
   ]
  },
  {
   "cell_type": "code",
   "execution_count": null,
   "metadata": {
    "id": "fnsko-LCx0Mi"
   },
   "outputs": [],
   "source": []
  }
 ],
 "metadata": {
  "colab": {
   "collapsed_sections": [],
   "name": "Copia de Semana_2_Analisis_de_sentimiento.ipynb",
   "provenance": []
  },
  "kernelspec": {
   "display_name": "Python 3 (ipykernel)",
   "language": "python",
   "name": "python3"
  },
  "language_info": {
   "codemirror_mode": {
    "name": "ipython",
    "version": 3
   },
   "file_extension": ".py",
   "mimetype": "text/x-python",
   "name": "python",
   "nbconvert_exporter": "python",
   "pygments_lexer": "ipython3",
   "version": "3.8.8"
  }
 },
 "nbformat": 4,
 "nbformat_minor": 1
}
